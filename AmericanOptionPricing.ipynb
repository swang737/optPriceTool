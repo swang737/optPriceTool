{
 "cells": [
  {
   "cell_type": "code",
   "execution_count": 4,
   "id": "0712d99f-2242-4077-ae3e-f99e36e189ce",
   "metadata": {},
   "outputs": [],
   "source": [
    "import numpy as np"
   ]
  },
  {
   "cell_type": "code",
   "execution_count": 6,
   "id": "108c2bf7-569e-4a1b-8e19-19857c500803",
   "metadata": {},
   "outputs": [
    {
     "name": "stdout",
     "output_type": "stream",
     "text": [
      "500\n",
      "500\n",
      "2.5423873968905518e+45\n"
     ]
    }
   ],
   "source": [
    "T = 1\n",
    "S_0 = 100\n",
    "K = 100\n",
    "sigma = 0.25\n",
    "r = 0.07\n",
    "price = 0\n",
    "\n",
    "tol = 0.001\n",
    "omega = 1.2\n",
    "\n",
    "S_max = 400\n",
    "\n",
    "N = 250\n",
    "M = 2000\n",
    "dt = T / N\n",
    "ds = S_max / M\n",
    "\n",
    "I = np.arange(0, M+1)\n",
    "J = np.arange(0, N+1)\n",
    "\n",
    "old_val = np.zeros(M-1)\n",
    "new_val = np.zeros(M-1)\n",
    "\n",
    "# Boundary and final conditions\n",
    "payoff = np.maximum(K - I[1:M] * ds, 0)\n",
    "old_layer = payoff\n",
    "bound_val = K * np.exp(-r * (N - J) * dt)\n",
    "\n",
    "# Calculating elements of M\n",
    "alpha = 0.25 * dt * (sigma**2 * (I**2) - r * I)\n",
    "alpha = alpha[1:]\n",
    "beta = -dt * 0.5 * (sigma**2 * (I**2) + r)\n",
    "beta = beta[1:]\n",
    "gamma = 0.25 * dt * (sigma**2 * (I**2) + r * I)\n",
    "gamma = gamma[1:]\n",
    "\n",
    "M2 = np.diag(1+beta[:M-1]) + np.diag(alpha[1:M-1], k=-1) + np.diag(gamma[:M-2], k=1)\n",
    "b = np.zeros(M-1)\n",
    "\n",
    "for j in range(N-1, -1, -1):\n",
    "    b[0] = alpha[0] * (bound_val[j] + bound_val[j+1])\n",
    "    rhs = M2 @ old_layer + b\n",
    "    old_val = old_layer\n",
    "    error = 1000000\n",
    "    while error > tol:\n",
    "        new_val[0] = np.maximum(payoff[0], old_val[0] + (omega/(1-beta[0]))*(rhs[0] - (1-beta[0])*old_val[0] + gamma[0] * old_val[1]))\n",
    "        for k in range(1, M-2):\n",
    "            new_val[k] = np.maximum(payoff[k], old_val[k] + (omega / (1 - beta[k])) * (\n",
    "                        rhs[k] - (1 - beta[k]) * old_val[k] + alpha[k] * new_val[k-1] + gamma[k] * old_val[k+1]))\n",
    "        new_val[M-2] = np.maximum(payoff[M-2], old_val[M-2] + (omega / (1 - beta[M-2])) * (\n",
    "                rhs[M-2] - (1 - beta[M-2]) * old_val[M-2] + alpha[M-2] * new_val[M-3]))\n",
    "        error = np.linalg.norm(new_val - old_val)\n",
    "        old_val = new_val\n",
    "    old_layer = new_val\n",
    "\n",
    "\n",
    "prices_t0 = np.concatenate(([bound_val[0]], old_layer, [0]))\n",
    "idown = int(np.floor(S_0 / ds))\n",
    "iup = int(np.ceil(S_0 / ds))\n",
    "print(idown)\n",
    "print(iup)\n",
    "if idown == iup:\n",
    "    price = prices_t0[idown]\n",
    "else:\n",
    "    price = prices_t0[idown] + ((iup - (S_0 / ds)) / (iup - idown)) * (prices_t0[iup] - prices_t0[idown])\n",
    "\n",
    "print(price)"
   ]
  },
  {
   "cell_type": "code",
   "execution_count": null,
   "id": "a2e56a48-3053-46f2-8a05-f69487fe4d19",
   "metadata": {},
   "outputs": [],
   "source": []
  }
 ],
 "metadata": {
  "kernelspec": {
   "display_name": "Python 3 (ipykernel)",
   "language": "python",
   "name": "python3"
  },
  "language_info": {
   "codemirror_mode": {
    "name": "ipython",
    "version": 3
   },
   "file_extension": ".py",
   "mimetype": "text/x-python",
   "name": "python",
   "nbconvert_exporter": "python",
   "pygments_lexer": "ipython3",
   "version": "3.12.7"
  }
 },
 "nbformat": 4,
 "nbformat_minor": 5
}
