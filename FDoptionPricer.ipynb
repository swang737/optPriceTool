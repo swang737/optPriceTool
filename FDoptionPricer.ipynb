{
 "cells": [
  {
   "cell_type": "code",
   "execution_count": 151,
   "id": "0e5a578e-c903-43ff-aa44-053b7de422cf",
   "metadata": {},
   "outputs": [],
   "source": [
    "import numpy as np\n",
    "from scipy.stats import norm\n",
    "import math"
   ]
  },
  {
   "cell_type": "code",
   "execution_count": 107,
   "id": "22212ff9-54ce-4ea4-a14c-fa60b7fc36cc",
   "metadata": {},
   "outputs": [],
   "source": [
    "import numpy as np\n",
    "\n",
    "class FDoptionPricer:\n",
    "    allowed_methods = {'explicit', 'implicit', 'cn'}\n",
    "    allowed_styles = {'european'}\n",
    "    allowed_types = {'put', 'call'}\n",
    "    \n",
    "    def __init__(self, optionStyle, optionType, S0, K, T = 1, r = 0.07, sigma = 0.25):\n",
    "        if optionStyle not in self.allowed_styles or optionType not in self.allowed_types:\n",
    "            raise ValueError('style/type not allowed')\n",
    "        self.style = optionStyle\n",
    "        self.type = optionType\n",
    "        self.S0 = S0\n",
    "        self.K = K\n",
    "        self.T = T\n",
    "        self.r = r\n",
    "        self.sigma = sigma\n",
    "\n",
    "    def getPrice(self, method, M = 1000, N = 100):\n",
    "        if method.lower() not in self.allowed_methods:\n",
    "            raise ValueError('not an allowed method')\n",
    "\n",
    "        x = np.linspace(-3*self.sigma*np.sqrt(self.T), 3*self.sigma*np.sqrt(self.T), N)\n",
    "        q = 2 * self.r / self.sigma**2\n",
    "        dt = (self.sigma**2 * self.T / 2) / M\n",
    "        dx = x[1] - x[0]\n",
    "        lam = dt / dx**2\n",
    "\n",
    "        u = np.maximum(np.exp((q + 1)/2 * x) - np.exp((q - 1)/2 * x), 0)\n",
    "\n",
    "        def gta(a, b, c, d):\n",
    "            n = len(d)\n",
    "            cp = np.zeros(n)\n",
    "            dp = np.zeros(n)\n",
    "            cp[0] = c[0] / b[0]\n",
    "            dp[0] = d[0] / b[0]\n",
    "            for i in range(1, n):\n",
    "                denom = b[i] - a[i-1] * cp[i-1]\n",
    "                cp[i] = c[i] / denom if i < n-1 else 0\n",
    "                dp[i] = (d[i] - a[i-1] * dp[i-1]) / denom\n",
    "            x = np.zeros(n)\n",
    "            x[-1] = dp[-1]\n",
    "            for i in reversed(range(n-1)):\n",
    "                x[i] = dp[i] - cp[i] * x[i+1]\n",
    "            return x\n",
    "\n",
    "        if method == 'explicit':\n",
    "            for m in range(1, M):\n",
    "                w = np.zeros(N)\n",
    "                w[1:-1] = lam * u[:-2] + (1 - 2*lam) * u[1:-1] + lam * u[2:]\n",
    "                w[0] = 0\n",
    "                t = (m-1) * dt\n",
    "                w[-1] = np.exp((q + 1)/2 * x[-1] + ((q + 1)**2 / 4) * t) - np.exp((q - 1)/2 * x[-1] + ((q - 1)**2 / 4) * t)\n",
    "                u = w\n",
    "            V = u * self.K * np.exp(-(q - 1)/2 * x - ((q + 1)**2 / 4) * self.sigma**2 * self.T / 2)\n",
    "            S = self.K * np.exp(x)\n",
    "            logS0 = np.log(self.S0 / self.K)\n",
    "            i = np.searchsorted(x, logS0) - 1\n",
    "            i = np.clip(i, 0, N - 2)\n",
    "            w = (logS0 - x[i]) / dx\n",
    "            price = V[i] * (1 - w) + V[i+1] * w\n",
    "\n",
    "        if method == 'implicit':\n",
    "            a = -lam * np.ones(N-2)\n",
    "            b = (1 + 2*lam) * np.ones(N-2)\n",
    "            c = -lam * np.ones(N-2)\n",
    "            for m in range(1, M):\n",
    "                t = (m-1) * dt\n",
    "                rhs = u[1:-1].copy()\n",
    "                rhs[0] += lam * 0\n",
    "                u_right = np.exp((q + 1)/2 * x[-1] + ((q + 1)**2 / 4) * t) - np.exp((q - 1)/2 * x[-1] + ((q - 1)**2 / 4) * t)\n",
    "                rhs[-1] += lam * u_right\n",
    "                u_inner = gta(a, b, c, rhs)\n",
    "                u = np.concatenate(([0], u_inner, [u_right]))\n",
    "            V = u * self.K * np.exp(-(q - 1)/2 * x - ((q + 1)**2 / 4) * self.sigma**2 * self.T / 2)\n",
    "            logS0 = np.log(self.S0 / self.K)\n",
    "            i = np.searchsorted(x, logS0) - 1\n",
    "            i = np.clip(i, 0, N - 2)\n",
    "            w = (logS0 - x[i]) / dx\n",
    "            price = V[i] * (1 - w) + V[i+1] * w\n",
    "\n",
    "        if method == 'cn':\n",
    "            aL = -0.5 * lam * np.ones(N-2)\n",
    "            bL = (1.0 + lam) * np.ones(N-2)\n",
    "            cL = -0.5 * lam * np.ones(N-2)\n",
    "            for m in range(1, M):\n",
    "                t_m  = (m-1) * dt\n",
    "                t_m1 = m * dt\n",
    "                uR_m  = np.exp((q + 1)/2 * x[-1] + ((q + 1)**2 / 4) * t_m) - np.exp((q - 1)/2 * x[-1] + ((q - 1)**2 / 4) * t_m)\n",
    "                uR_m1 = np.exp((q + 1)/2 * x[-1] + ((q + 1)**2 / 4) * t_m1) - np.exp((q - 1)/2 * x[-1] + ((q - 1)**2 / 4) * t_m1)\n",
    "                u_old = u\n",
    "                rhs = (0.5*lam) * u_old[0:N-2] + (1.0 - lam) * u_old[1:N-1] + (0.5*lam) * u_old[2:N]\n",
    "                rhs[-1] += 0.5 * lam * (uR_m + uR_m1)\n",
    "                u_inner = gta(aL, bL, cL, rhs)\n",
    "                u = np.concatenate(([0.0], u_inner, [uR_m1]))\n",
    "            V = u * self.K * np.exp(-(q - 1)/2 * x - ((q + 1)**2 / 4) * self.sigma**2 * self.T / 2)\n",
    "            logS0 = np.log(self.S0 / self.K)\n",
    "            i = np.searchsorted(x, logS0) - 1\n",
    "            i = np.clip(i, 0, N - 2)\n",
    "            w_lin = (logS0 - x[i]) / dx\n",
    "            price = V[i] * (1 - w_lin) + V[i+1] * w_lin\n",
    "\n",
    "        return price"
   ]
  },
  {
   "cell_type": "code",
   "execution_count": 127,
   "id": "1323d771-41c3-4e37-a372-b0358ad78e4f",
   "metadata": {},
   "outputs": [
    {
     "data": {
      "text/plain": [
       "1.0053684604637031e+60"
      ]
     },
     "execution_count": 127,
     "metadata": {},
     "output_type": "execute_result"
    }
   ],
   "source": [
    "eurocall = FDoptionPricer('european', 'call', 100, 100)\n",
    "eurocall.getPrice(method = 'explicit', N = 100, M = 100)"
   ]
  },
  {
   "cell_type": "code",
   "execution_count": 131,
   "id": "a818d434-4c37-45d1-988d-c4277a9497c1",
   "metadata": {},
   "outputs": [
    {
     "name": "stdout",
     "output_type": "stream",
     "text": [
      "5\n",
      "5\n",
      "5.675600670643971\n"
     ]
    }
   ],
   "source": [
    "T = 1 #period of contract\n",
    "S_0 = 100  #price at time zero\n",
    "K = 100  #exercise price\n",
    "sigma = 0.25  #Volatility\n",
    "r = 0.07  #Risk-neutral interest-rate\n",
    "price = 0  #Just initialization :)\n",
    "S_max = 1000\n",
    "\n",
    "N = 500\n",
    "M = 50\n",
    "dt = T / N\n",
    "ds = S_max / M\n",
    "\n",
    "f = np.zeros((M+1,N+1))  # The array f is the mesh of approximation of the option price function\n",
    "I = np.arange(0, M+1)\n",
    "J = np.arange(0, N+1)\n",
    "\n",
    "# Boundary and final conditions\n",
    "f[:, N] = np.maximum(K - (I * ds), 0)\n",
    "f[0, :] = K * np.exp(-r * (T - J * dt))\n",
    "f[M, :] = 0\n",
    "\n",
    "alpha = 0.25 * dt * (sigma**2 * (I**2) - r * I)\n",
    "beta = -dt * 0.5 * (sigma**2 * (I**2) + r)\n",
    "gamma = 0.25 * dt * (sigma**2 * (I**2) + r * I)\n",
    "\n",
    "M1 = np.diag(1-beta[1:M]) + np.diag(-alpha[2:M], k=-1) + np.diag(-gamma[1:M-1], k=1)\n",
    "M2 = np.diag(1+beta[1:M]) + np.diag(alpha[2:M], k=-1) + np.diag(gamma[1:M-1], k=1)\n",
    "\n",
    "for j in range(N-1, -1, -1):\n",
    "    l = np.zeros(M - 1)\n",
    "    l[0] = alpha[1] * (f[0, j] + f[0, j+1])\n",
    "    l[-1] = gamma[M-1] * (f[M, j] + f[M, j+1])\n",
    "    f[1:M, j] = np.linalg.solve(M1, M2 @ f[1:M, j+1] + l)\n",
    "\n",
    "## Finding the price by interapolation\n",
    "idown = int(np.floor(S_0 / ds))\n",
    "iup = int(np.ceil(S_0 / ds))\n",
    "print(idown)\n",
    "print(iup)\n",
    "if idown == iup:\n",
    "    price = f[idown, 0]\n",
    "else:\n",
    "    price = f[idown, 0] + ((iup - (S_0 / ds)) / (iup - idown)) * (f[iup, 0] - f[idown, 0])\n",
    "\n",
    "print(price)"
   ]
  },
  {
   "cell_type": "code",
   "execution_count": 29,
   "id": "6ef520f0-c897-4dbb-b68f-d6cc3640fd84",
   "metadata": {},
   "outputs": [],
   "source": [
    "def thomas(a, b, c, d):\n",
    "    n = b.size\n",
    "    cp = np.empty(n-1); dp = np.empty(n)\n",
    "    cp[0] = c[0]/b[0]; dp[0] = d[0]/b[0]\n",
    "    for i in range(1, n-1):\n",
    "        den = b[i] - a[i-1]*cp[i-1]\n",
    "        cp[i] = c[i]/den\n",
    "        dp[i] = (d[i] - a[i-1]*dp[i-1])/den\n",
    "    dp[-1] = (d[-1] - a[-1]*dp[-2])/(b[-1] - a[-1]*cp[-1])\n",
    "    x = np.empty(n); x[-1] = dp[-1]\n",
    "    for i in range(n-2, -1, -1):\n",
    "        x[i] = dp[i] - cp[i]*x[i+1]\n",
    "    return x\n",
    "\n",
    "def crank_nicolson_european_call(S0, K, T, r, sigma, N_s=200, N_t=400, S_max=None):\n",
    "    if S_max is None:\n",
    "        S_max = max(2.0*S0, 4.0*K)\n",
    "    dt = T / N_t\n",
    "    S = np.linspace(0.0, S_max, N_s+1)\n",
    "    V = np.maximum(S - K, 0.0)\n",
    "\n",
    "    i = np.arange(1, N_s)\n",
    "    alpha = 0.25*dt*(sigma**2*i**2 - r*i)\n",
    "    beta  = -0.5*dt*(sigma**2*i**2 + r)\n",
    "    gamma = 0.25*dt*(sigma**2*i**2 + r*i)\n",
    "\n",
    "    aL = -alpha[1:]\n",
    "    bL = 1.0 - beta\n",
    "    cL = -gamma[:-1]\n",
    "\n",
    "    from scipy.sparse import diags\n",
    "    M_R = diags([alpha[1:], (1.0 + beta), gamma[:-1]], [-1, 0, 1], shape=(N_s-1, N_s-1)).tocsc()\n",
    "\n",
    "    for n in range(N_t):\n",
    "        t   = n*dt\n",
    "        t1  = (n+1)*dt\n",
    "        V0n = 0.0\n",
    "        V0p = 0.0\n",
    "        Vsn = S_max - K*np.exp(-r*(T - t))\n",
    "        Vsp = S_max - K*np.exp(-r*(T - t1))\n",
    "\n",
    "        rhs = M_R.dot(V[1:-1])\n",
    "        rhs[0]  += alpha[0]*V0n + alpha[0]*V0p\n",
    "        rhs[-1] += gamma[-1]*Vsn + gamma[-1]*Vsp\n",
    "\n",
    "        V[1:-1] = thomas(aL, bL, cL, rhs)\n",
    "        V[0]  = V0p\n",
    "        V[-1] = Vsp\n",
    "\n",
    "    return float(np.interp(S0, S, V))"
   ]
  },
  {
   "cell_type": "code",
   "execution_count": 125,
   "id": "29e9c00d-a5dc-4920-9474-3597c85bfd65",
   "metadata": {},
   "outputs": [
    {
     "data": {
      "text/plain": [
       "13.332450229933379"
      ]
     },
     "execution_count": 125,
     "metadata": {},
     "output_type": "execute_result"
    }
   ],
   "source": [
    "price = crank_nicolson_european_call(100, 100, 1.0, 0.07, 0.25, N_s=100, N_t=400)\n",
    "price"
   ]
  },
  {
   "cell_type": "code",
   "execution_count": 43,
   "id": "6d3a7e6d-69b5-4f72-b2dc-88d972393571",
   "metadata": {},
   "outputs": [],
   "source": [
    "def implicit_european_call(S0, K, T, r, sigma, N_s=200, N_t=400, S_max=None):\n",
    "    if S_max is None:\n",
    "        S_max = max(2.0*S0, 4.0*K)\n",
    "    dt = T / N_t\n",
    "    S = np.linspace(0.0, S_max, N_s+1)\n",
    "    V = np.maximum(S - K, 0.0)\n",
    "\n",
    "    i = np.arange(1, N_s)\n",
    "    alpha = 0.5*dt*(sigma**2*i**2 - r*i)\n",
    "    beta  = -dt*(sigma**2*i**2 + r)\n",
    "    gamma = 0.5*dt*(sigma**2*i**2 + r*i)\n",
    "\n",
    "    a = -alpha[1:]\n",
    "    b = 1.0 - beta\n",
    "    c = -gamma[:-1]\n",
    "\n",
    "    for n in range(N_t):\n",
    "        t1 = (n+1)*dt\n",
    "        V0 = 0.0\n",
    "        VS = S_max - K*np.exp(-r*(T - t1))\n",
    "        rhs = V[1:-1].copy()\n",
    "        rhs[0]  += alpha[0]*V0\n",
    "        rhs[-1] += gamma[-1]*VS\n",
    "        V[1:-1] = thomas(a, b, c, rhs)\n",
    "        V[0]  = V0\n",
    "        V[-1] = VS\n",
    "\n",
    "    return float(np.interp(S0, S, V))"
   ]
  },
  {
   "cell_type": "code",
   "execution_count": 123,
   "id": "22bd21a9-15e7-455e-b1de-a3e8bf014f3c",
   "metadata": {},
   "outputs": [
    {
     "data": {
      "text/plain": [
       "13.329004213602238"
      ]
     },
     "execution_count": 123,
     "metadata": {},
     "output_type": "execute_result"
    }
   ],
   "source": [
    "price = implicit_european_call(100, 100, 1.0, 0.07, 0.25, N_s=100, N_t=400)\n",
    "price"
   ]
  },
  {
   "cell_type": "code",
   "execution_count": 155,
   "id": "e60f14d2-ac22-4989-9def-c900f70b1b3e",
   "metadata": {},
   "outputs": [],
   "source": [
    "def explicit_european_call(S0, K, T, r, sigma, N_s=200, N_t=400, S_max=None):\n",
    "    if S_max is None:\n",
    "        S_max = max(2.0*S0, 4.0*K)\n",
    "\n",
    "    S = np.linspace(0.0, S_max, N_s+1, dtype=float)\n",
    "    V = np.maximum(S - K, 0.0)\n",
    "\n",
    "    i = np.arange(1, N_s, dtype=float)\n",
    "    dt = T / float(N_t)\n",
    "\n",
    "    alpha = 0.5*dt*(sigma**2 * i**2 - r*i)\n",
    "    beta  = 1.0 - dt*(sigma**2 * i**2 + r)\n",
    "    gamma = 0.5*dt*(sigma**2 * i**2 + r*i)\n",
    "\n",
    "    for n in range(N_t):\n",
    "        tau_next = (n+1)*dt\n",
    "        V_new = V.copy()\n",
    "        V_new[1:-1] = alpha*V[:-2] + beta*V[1:-1] + gamma*V[2:]\n",
    "        V_new[0]  = 0.0\n",
    "        V_new[-1] = S_max - K*np.exp(-r * tau_next)\n",
    "        V = V_new\n",
    "\n",
    "    return float(np.interp(S0, S, V))"
   ]
  },
  {
   "cell_type": "code",
   "execution_count": 169,
   "id": "c30de341-654b-426d-8050-6cb6ff16a57d",
   "metadata": {},
   "outputs": [
    {
     "data": {
      "text/plain": [
       "13.33520373703625"
      ]
     },
     "execution_count": 169,
     "metadata": {},
     "output_type": "execute_result"
    }
   ],
   "source": [
    "explicit_european_call(100, 100, 1, 0.07, 0.25, N_s = 100, N_t = 500)"
   ]
  },
  {
   "cell_type": "code",
   "execution_count": null,
   "id": "92011d5c-14f8-4d42-b4bf-bc3f959cd8a8",
   "metadata": {},
   "outputs": [],
   "source": []
  }
 ],
 "metadata": {
  "kernelspec": {
   "display_name": "Python 3 (ipykernel)",
   "language": "python",
   "name": "python3"
  },
  "language_info": {
   "codemirror_mode": {
    "name": "ipython",
    "version": 3
   },
   "file_extension": ".py",
   "mimetype": "text/x-python",
   "name": "python",
   "nbconvert_exporter": "python",
   "pygments_lexer": "ipython3",
   "version": "3.12.7"
  }
 },
 "nbformat": 4,
 "nbformat_minor": 5
}
