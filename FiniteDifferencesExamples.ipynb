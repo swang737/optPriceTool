{
 "cells": [
  {
   "cell_type": "code",
   "execution_count": 2,
   "id": "ad84b80e-ffa0-4833-b576-d3a41c9e15ce",
   "metadata": {},
   "outputs": [],
   "source": [
    "import numpy as np"
   ]
  },
  {
   "cell_type": "code",
   "execution_count": 120,
   "id": "1422e5f0-2b28-4568-b9af-abc655c3c970",
   "metadata": {},
   "outputs": [
    {
     "data": {
      "text/plain": [
       "13.332586028515205"
      ]
     },
     "execution_count": 120,
     "metadata": {},
     "output_type": "execute_result"
    }
   ],
   "source": [
    "def price_european_call_explicit(S0, K, T, r, sigma, Smax, M, N):\n",
    "    dt = T / M\n",
    "    dS = Smax / N\n",
    "    S = np.linspace(0, Smax, N+1)\n",
    "    \n",
    "    V = np.maximum(S - K, 0)\n",
    "    \n",
    "    alpha = 0.5 * dt * ((sigma**2) * (np.arange(N+1)**2) - r * np.arange(N+1))\n",
    "    beta  = 1 - dt * ((sigma**2) * (np.arange(N+1)**2) + r)\n",
    "    gamma = 0.5 * dt * ((sigma**2) * (np.arange(N+1)**2) + r * np.arange(N+1))\n",
    "\n",
    "    for n in range(M):\n",
    "        Vn = V.copy()\n",
    "        for i in range(1, N):\n",
    "            V[i] = alpha[i] * Vn[i-1] + beta[i] * Vn[i] + gamma[i] * Vn[i+1]\n",
    "        \n",
    "        V[0] = 0\n",
    "        V[-1] = Smax - K * np.exp(-r * dt * (M - n - 1))\n",
    "    \n",
    "    return np.interp(S0, S, V)\n",
    "\n",
    "price_european_call_explicit(S0=100, K=100, T=1, r=0.07, sigma=0.25, Smax=400, N=100, M=10000)"
   ]
  },
  {
   "cell_type": "code",
   "execution_count": 114,
   "id": "39610498-9b2f-4a4b-9822-dce64cb69a0a",
   "metadata": {},
   "outputs": [
    {
     "data": {
      "text/plain": [
       "13.360266497976534"
      ]
     },
     "execution_count": 114,
     "metadata": {},
     "output_type": "execute_result"
    }
   ],
   "source": [
    "def price_european_call_implicit(S0, K, T, r, sigma, Smax, M, N):\n",
    "    dt = T / M\n",
    "    dS = Smax / N\n",
    "    S = np.linspace(0, Smax, N+1)\n",
    "    \n",
    "    V = np.maximum(S - K, 0)\n",
    "\n",
    "    i = np.arange(1, N)\n",
    "    alpha = 0.5 * dt * (sigma**2 * i**2 - r * i)\n",
    "    beta  = 1 + dt * (sigma**2 * i**2 + r)\n",
    "    gamma = 0.5 * dt * (sigma**2 * i**2 + r * i)\n",
    "\n",
    "    a = -alpha\n",
    "    b = beta\n",
    "    c = -gamma\n",
    "\n",
    "    for _ in range(M):\n",
    "        d = V[1:N]\n",
    "\n",
    "        d[0]   += alpha[0] * V[0]\n",
    "        d[-1] += gamma[-1] * (Smax - K * np.exp(-r * dt))\n",
    "\n",
    "        c_prime = np.zeros(N-1)\n",
    "        d_prime = np.zeros(N-1)\n",
    "\n",
    "        c_prime[0] = c[0] / b[0]\n",
    "        d_prime[0] = d[0] / b[0]\n",
    "\n",
    "        for j in range(1, N-1):\n",
    "            denom = b[j] - a[j] * c_prime[j-1]\n",
    "            c_prime[j] = c[j] / denom\n",
    "            d_prime[j] = (d[j] - a[j] * d_prime[j-1]) / denom\n",
    "\n",
    "        V_new = np.zeros(N-1)\n",
    "        V_new[-1] = d_prime[-1]\n",
    "        for j in reversed(range(N-2)):\n",
    "            V_new[j] = d_prime[j] - c_prime[j] * V_new[j+1]\n",
    "\n",
    "        V[1:N] = V_new\n",
    "        V[0] = 0\n",
    "        V[N] = Smax - K * np.exp(-r * (_ + 1) * dt)\n",
    "\n",
    "    return np.interp(S0, S, V)\n",
    "\n",
    "price_european_call_implicit(S0=100, K=100, T=1, r=0.07, sigma=0.25, Smax=400, M=10000, N=100)"
   ]
  },
  {
   "cell_type": "code",
   "execution_count": 128,
   "id": "2ca8b5ed-bc7c-4dd3-abb2-4c6382fca4a0",
   "metadata": {},
   "outputs": [
    {
     "data": {
      "text/plain": [
       "13.332447722456694"
      ]
     },
     "execution_count": 128,
     "metadata": {},
     "output_type": "execute_result"
    }
   ],
   "source": [
    "import numpy as np\n",
    "\n",
    "def price_european_call_crank_nicolson(S0, K, T, r, sigma, Smax, M, N):\n",
    "    dt = T / M\n",
    "    dS = Smax / N\n",
    "    S = np.linspace(0, Smax, N+1)  # asset price grid\n",
    "\n",
    "    V = np.maximum(S - K, 0.0)     # payoff at maturity\n",
    "\n",
    "    i = np.arange(1, N)\n",
    "    alpha = 0.5 * dt * (sigma**2 * i**2 - r * i)\n",
    "    beta  =        dt * (sigma**2 * i**2 + r)\n",
    "    gamma = 0.5 * dt * (sigma**2 * i**2 + r * i)\n",
    "\n",
    "    a_CN = -0.5 * alpha\n",
    "    b_CN =  1.0 + 0.5 * beta\n",
    "    c_CN = -0.5 * gamma\n",
    "\n",
    "    a_BE = -alpha\n",
    "    b_BE = 1.0 + beta\n",
    "    c_BE = -gamma\n",
    "\n",
    "    rannacher_steps = 2  # number of backward Euler steps at the start\n",
    "\n",
    "    for k in range(M):\n",
    "        t_n = (k + 1) * dt\n",
    "        Vn1 = V.copy()\n",
    "\n",
    "        # set boundaries for the current time step\n",
    "        V[0] = 0.0\n",
    "        V[-1] = Smax - K * np.exp(-r * t_n)\n",
    "        VN_n = V[-1]\n",
    "\n",
    "        # build RHS vector d\n",
    "        if k < rannacher_steps:\n",
    "            # Backward Euler step (first 2 steps)\n",
    "            d = Vn1[1:N].copy()\n",
    "            d[-1] += gamma[-1] * VN_n\n",
    "            a = a_BE\n",
    "            b = b_BE\n",
    "            c = c_BE\n",
    "        else:\n",
    "            # Crank-Nicolson\n",
    "            d = 0.5 * alpha * Vn1[0:N-1] + (1.0 - 0.5 * beta) * Vn1[1:N] + 0.5 * gamma * Vn1[2:N+1]\n",
    "            d[-1] += 0.5 * gamma[-1] * VN_n\n",
    "            a = a_CN\n",
    "            b = b_CN\n",
    "            c = c_CN\n",
    "\n",
    "        # Thomas algorithm\n",
    "        c_prime = np.empty(N-1); d_prime = np.empty(N-1)\n",
    "        c_prime[0] = c[0] / b[0]\n",
    "        d_prime[0] = d[0] / b[0]\n",
    "        for j in range(1, N-1):\n",
    "            denom = b[j] - a[j] * c_prime[j-1]\n",
    "            c_prime[j] = c[j] / denom\n",
    "            d_prime[j] = (d[j] - a[j] * d_prime[j-1]) / denom\n",
    "\n",
    "        x = np.empty(N-1)\n",
    "        x[-1] = d_prime[-1]\n",
    "        for j in range(N-3, -1, -1):\n",
    "            x[j] = d_prime[j] - c_prime[j] * x[j+1]\n",
    "\n",
    "        # update V for the next step\n",
    "        V[1:N] = x\n",
    "        V[0]   = 0.0\n",
    "        V[-1]  = Smax - K * np.exp(-r * ((k+1) * dt))\n",
    "\n",
    "    return np.interp(S0, S, V)\n",
    "\n",
    "price_european_call_crank_nicolson(S0=100, K=100, T=1.0, r=0.07, sigma=0.25, Smax=400, M=10000, N=100)"
   ]
  },
  {
   "cell_type": "code",
   "execution_count": 78,
   "id": "2147db59-7fe6-49ac-bedc-4651faf98bfe",
   "metadata": {},
   "outputs": [],
   "source": [
    "S0=100\n",
    "K=100\n",
    "T=1.0\n",
    "r=0.07\n",
    "sigma=0.25\n",
    "Smax=400\n",
    "M=800\n",
    "N=100\n",
    "S = np.linspace(0, Smax, N+1) # generates N+1 numbers from 0 to Smax (space indices)\n",
    "V = np.maximum(S - K, 0.0)"
   ]
  },
  {
   "cell_type": "code",
   "execution_count": 80,
   "id": "ae6459f5-e49e-4768-98ad-c59a2398f955",
   "metadata": {},
   "outputs": [
    {
     "data": {
      "text/plain": [
       "array([  0.,   0.,   0.,   0.,   0.,   0.,   0.,   0.,   0.,   0.,   0.,\n",
       "         0.,   0.,   0.,   0.,   0.,   0.,   0.,   0.,   0.,   0.,   0.,\n",
       "         0.,   0.,   0.,   0.,   4.,   8.,  12.,  16.,  20.,  24.,  28.,\n",
       "        32.,  36.,  40.,  44.,  48.,  52.,  56.,  60.,  64.,  68.,  72.,\n",
       "        76.,  80.,  84.,  88.,  92.,  96., 100., 104., 108., 112., 116.,\n",
       "       120., 124., 128., 132., 136., 140., 144., 148., 152., 156., 160.,\n",
       "       164., 168., 172., 176., 180., 184., 188., 192., 196., 200., 204.,\n",
       "       208., 212., 216., 220., 224., 228., 232., 236., 240., 244., 248.,\n",
       "       252., 256., 260., 264., 268., 272., 276., 280., 284., 288., 292.,\n",
       "       296., 300.])"
      ]
     },
     "execution_count": 80,
     "metadata": {},
     "output_type": "execute_result"
    }
   ],
   "source": [
    "V"
   ]
  },
  {
   "cell_type": "code",
   "execution_count": null,
   "id": "edc91ee2-2588-4f60-85c9-eb436fbe77af",
   "metadata": {},
   "outputs": [],
   "source": []
  }
 ],
 "metadata": {
  "kernelspec": {
   "display_name": "Python 3 (ipykernel)",
   "language": "python",
   "name": "python3"
  },
  "language_info": {
   "codemirror_mode": {
    "name": "ipython",
    "version": 3
   },
   "file_extension": ".py",
   "mimetype": "text/x-python",
   "name": "python",
   "nbconvert_exporter": "python",
   "pygments_lexer": "ipython3",
   "version": "3.12.7"
  }
 },
 "nbformat": 4,
 "nbformat_minor": 5
}
