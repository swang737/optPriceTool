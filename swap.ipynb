{
 "cells": [
  {
   "cell_type": "code",
   "execution_count": 20,
   "id": "2adcca17-d9a7-4b84-a12a-70a85f8a1f08",
   "metadata": {},
   "outputs": [
    {
     "name": "stdout",
     "output_type": "stream",
     "text": [
      "[0.985, 0.931393126086117, 0.8981148126188792, 0.8646085145212733, 0.8304406528129262, 0.7957458367043726, 0.7609881316681772]\n"
     ]
    }
   ],
   "source": [
    "import math\n",
    "\n",
    "def bootstrap_from_swaps(tenors, par_rates, accruals, seed_D1=None):\n",
    "    \"\"\"\n",
    "    tenors   : [t1, t2, ...] in years (include each coupon date)\n",
    "    par_rates: [S_k for each maturity t_k], same length as tenors\n",
    "              (e.g., if coupons are semiannual, S appears at pillars 2,4,6,...)\n",
    "    accruals : [alpha_i] per period (e.g., 0.5 for semiannual)\n",
    "    seed_D1  : optional known D(t1); otherwise set from a money-market instrument\n",
    "    \"\"\"\n",
    "    n = len(tenors)\n",
    "    D = [None]*n\n",
    "    # If you have a deposit or FRA for the first period, set D[0] from that.\n",
    "    if seed_D1 is not None:\n",
    "        D[0] = seed_D1\n",
    "    else:\n",
    "        # crude seed: use exp(-S1 * t1) if no short instrument provided\n",
    "        D[0] = math.exp(-par_rates[0] * tenors[0])\n",
    "\n",
    "    # Iterate pillars\n",
    "    for k in range(1, n):\n",
    "        S = par_rates[k]\n",
    "        alpha_k = accruals[k]\n",
    "        fixed_sum_known = sum(accruals[i] * D[i] for i in range(k))\n",
    "\n",
    "        def f(Dk):\n",
    "            return S * (fixed_sum_known + alpha_k * Dk) - (1.0 - Dk)\n",
    "\n",
    "        fprime = S * alpha_k + 1.0\n",
    "        # initial guess for Dk\n",
    "        Dk = math.exp(-S * tenors[k])\n",
    "\n",
    "        for _ in range(12):\n",
    "            step = f(Dk) / fprime\n",
    "            Dk -= step\n",
    "            if abs(step) < 1e-12:\n",
    "                break\n",
    "\n",
    "        D[k] = Dk\n",
    "\n",
    "    return D\n",
    "\n",
    "# Example (semiannual for 2Y): t=[0.5,1.0,1.5,2.0], S=[3.0%,3.0%,3.2%,3.4%]\n",
    "tenors    = [1, 2, 3, 4, 5, 6, 7]             # years\n",
    "alphas    = [1.0]*7                           # annual accrual\n",
    "par = [0.0364, 0.0358, 0.0362, 0.0368, 0.0376, 0.0385, 0.0394]  # decimals\n",
    "discounts = bootstrap_from_swaps(tenors, par, alphas, seed_D1=0.9850)\n",
    "print(discounts)"
   ]
  },
  {
   "cell_type": "code",
   "execution_count": null,
   "id": "8fe30091-6f44-4bc4-abfd-dabb54ec3fa8",
   "metadata": {},
   "outputs": [],
   "source": []
  }
 ],
 "metadata": {
  "kernelspec": {
   "display_name": "Python 3 (ipykernel)",
   "language": "python",
   "name": "python3"
  },
  "language_info": {
   "codemirror_mode": {
    "name": "ipython",
    "version": 3
   },
   "file_extension": ".py",
   "mimetype": "text/x-python",
   "name": "python",
   "nbconvert_exporter": "python",
   "pygments_lexer": "ipython3",
   "version": "3.12.7"
  }
 },
 "nbformat": 4,
 "nbformat_minor": 5
}
