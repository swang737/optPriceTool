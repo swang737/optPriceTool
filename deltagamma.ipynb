{
 "cells": [
  {
   "cell_type": "code",
   "execution_count": 222,
   "id": "96aae572-e81e-43b4-97c6-60fa910b98ea",
   "metadata": {},
   "outputs": [],
   "source": [
    "import numpy as np"
   ]
  },
  {
   "cell_type": "code",
   "execution_count": 315,
   "id": "93fa071e-b29a-45d9-ad10-03238a38e12a",
   "metadata": {},
   "outputs": [],
   "source": [
    "def value(S0, K = 100, r = 0.07, std = 0.25, T = 2, N = 1000, X = None):\n",
    "    X = np.asarray(X)\n",
    "    antiX = -X\n",
    "    ST = S0*np.exp((r - 0.5*std**2)*T + std*np.sqrt(T)*X)\n",
    "    antiST = S0*np.exp((r - 0.5*std**2)*T + std*np.sqrt(T)*antiX)\n",
    "    payoffs = np.maximum(ST-K, 0)\n",
    "    antipayoffs = np.maximum(antiST-K, 0)\n",
    "    V = np.exp(-r * T) * np.mean(np.concatenate([payoffs, antipayoffs]))\n",
    "    return np.mean(V)"
   ]
  },
  {
   "cell_type": "code",
   "execution_count": 317,
   "id": "43cecdee-b21c-4e03-801d-a9c408d0588d",
   "metadata": {},
   "outputs": [
    {
     "data": {
      "text/plain": [
       "(0.9362967633462915, 0.002523792926467649)"
      ]
     },
     "execution_count": 317,
     "metadata": {},
     "output_type": "execute_result"
    }
   ],
   "source": [
    "x = 0.1\n",
    "S0 = 140\n",
    "K = 100\n",
    "runs = 100000\n",
    "posArr = []\n",
    "negArr = []\n",
    "S0Arr = []\n",
    "\n",
    "for _ in range(runs):\n",
    "    Z = np.random.normal(size = N)\n",
    "    posArr.append(value(S0+x, K, X = Z))\n",
    "    negArr.append(value(S0-x, K, X = Z))\n",
    "    S0Arr.append(value(S0, K, X = Z))\n",
    "\n",
    "delta = (np.mean(posArr) - np.mean(negArr))/(2 * x)\n",
    "gamma = (np.mean(posArr) - 2*np.mean(S0Arr) + np.mean(negArr))/(x**2)\n",
    "\n",
    "delta, gamma"
   ]
  },
  {
   "cell_type": "code",
   "execution_count": null,
   "id": "1f95a8ca-1763-4e43-8bb6-8ff961ad0c93",
   "metadata": {},
   "outputs": [],
   "source": []
  }
 ],
 "metadata": {
  "kernelspec": {
   "display_name": "Python 3 (ipykernel)",
   "language": "python",
   "name": "python3"
  },
  "language_info": {
   "codemirror_mode": {
    "name": "ipython",
    "version": 3
   },
   "file_extension": ".py",
   "mimetype": "text/x-python",
   "name": "python",
   "nbconvert_exporter": "python",
   "pygments_lexer": "ipython3",
   "version": "3.12.7"
  }
 },
 "nbformat": 4,
 "nbformat_minor": 5
}
